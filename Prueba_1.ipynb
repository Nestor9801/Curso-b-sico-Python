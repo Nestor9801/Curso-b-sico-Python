{
  "nbformat": 4,
  "nbformat_minor": 0,
  "metadata": {
    "colab": {
      "provenance": [],
      "authorship_tag": "ABX9TyNosfAn9lKVVuZBhxS8FiYD",
      "include_colab_link": true
    },
    "kernelspec": {
      "name": "python3",
      "display_name": "Python 3"
    },
    "language_info": {
      "name": "python"
    }
  },
  "cells": [
    {
      "cell_type": "markdown",
      "metadata": {
        "id": "view-in-github",
        "colab_type": "text"
      },
      "source": [
        "<a href=\"https://colab.research.google.com/github/Nestor9801/Curso-b-sico-Python/blob/main/Prueba_1.ipynb\" target=\"_parent\"><img src=\"https://colab.research.google.com/assets/colab-badge.svg\" alt=\"Open In Colab\"/></a>"
      ]
    },
    {
      "cell_type": "code",
      "execution_count": 8,
      "metadata": {
        "id": "hDV4QllFABzc"
      },
      "outputs": [],
      "source": [
        "## Ejercicio 1: Tipos de datos####\n",
        "#Identifica los siguientes tipos de datos mediante el uso de type y valida que correspondan a su tipo\n",
        "#como se muestra en la parte de abajo\n",
        "\n",
        "a = 2346\n",
        "b = 245678.44526\n",
        "nombre = 'Coloca tu nombre'\n",
        "data = [12,45,74,67,12,345,78,78,95]\n",
        "dic_ = {'1':2424,\n",
        "        '2':'Hola',\n",
        "        '3':{\n",
        "          'key34': 'Data'  \n",
        "          }\n",
        "        }\n",
        "\n",
        "#### Ejemplo ####\n",
        "complex_dat = 5 + 5j\n",
        "tipoC = type(complex_dat)\n",
        "assert tipoC == complex #-----> la función assert nos ayuda a testear un fragmento de código para que este tenga una mayor calidad, se usa en Test Unitarios y pruebas de Aceptación\n",
        "\n",
        "#### Coloca tus soluciones aquí ####\n"
      ]
    },
    {
      "cell_type": "code",
      "source": [
        "### Ejercicio número 2 ###\n",
        "## Se tienen las siguientes cadenas de información ##\n",
        "string1 = 'Esta es una cadena de información'\n",
        "string2 = '27989302.08'\n",
        "string3 = '2437439393'\n",
        "string4 = 'dyete0wueeute'\n",
        "\n",
        "###Convierte cada una de las cadenas a su tipo de dato original ya que se requieren para operaciones###\n",
        "\n",
        "\"\"\"\n",
        "##Valida las conversiones que hiciste\n",
        "dataStr2 = type(string2)\n",
        "assert dataStr2 == float\n",
        "\"\"\""
      ],
      "metadata": {
        "colab": {
          "base_uri": "https://localhost:8080/",
          "height": 35
        },
        "id": "oaInsT3sBC7f",
        "outputId": "833e8ce9-dcce-4dfb-8bb5-aa47c11745b7"
      },
      "execution_count": 25,
      "outputs": [
        {
          "output_type": "execute_result",
          "data": {
            "text/plain": [
              "'\\n##Valida las conversiones que hiciste\\ndataStr2 = type(string2)\\nassert dataStr2 == float\\n'"
            ],
            "application/vnd.google.colaboratory.intrinsic+json": {
              "type": "string"
            }
          },
          "metadata": {},
          "execution_count": 25
        }
      ]
    },
    {
      "cell_type": "code",
      "source": [
        "### En una APIREST se obtuvo el siguiente archivo JSON al mandar una petición\n",
        "### Este se puede interpretar como un diccionario en Python\n",
        "## Se desea saber el acrónimo Acronym que se encuentra en la estructura de datos, \n",
        "## accede al diccionario y ecuentra dicho acrónimo\n",
        "## Valida tu salida\n",
        "##Analiza muy bien la estructura\n",
        "\n",
        "json_1 = {\n",
        "    \"glossary\": {\n",
        "        \"title\": \"example glossary\",\n",
        "\t\t\"GlossDiv\": {\n",
        "            \"title\": \"S\",\n",
        "\t\t\t\"GlossList\": {\n",
        "                \"GlossEntry\": {\n",
        "                    \"ID\": \"SGML\",\n",
        "\t\t\t\t\t\"SortAs\": \"SGML\",\n",
        "\t\t\t\t\t\"GlossTerm\": \"Standard Generalized Markup Language\",\n",
        "\t\t\t\t\t\"Acronym\": \"SGML\",\n",
        "\t\t\t\t\t\"Abbrev\": \"ISO 8879:1986\",\n",
        "\t\t\t\t\t\"GlossDef\": {\n",
        "                        \"para\": \"A meta-markup language, used to create markup languages such as DocBook.\",\n",
        "\t\t\t\t\t\t\"GlossSeeAlso\": [\"GML\", \"XML\"]\n",
        "                    },\n",
        "\t\t\t\t\t\"GlossSee\": \"markup\"\n",
        "                }\n",
        "            }\n",
        "        }\n",
        "    }\n",
        "}\n",
        "\n",
        "### Tip ---> Recordad que para acceder a un valor se accede por Keys, puedes econctrar las keys del diccionario con:\n",
        "print(json_1[\"glossary\"].keys())\n",
        "\n",
        "\"\"\"\n",
        "Acronymun = ##Aquí va tu código###\n",
        "\"\"\"\n",
        "\n",
        "\"\"\"\n",
        "##Validación\n",
        "getData = 'SGM'\n",
        "assert Acronymun == getData\n",
        "\"\"\""
      ],
      "metadata": {
        "colab": {
          "base_uri": "https://localhost:8080/",
          "height": 53
        },
        "id": "i-Rfo1SqEtAw",
        "outputId": "dfbffca2-6fcf-4d7f-e277-55802066fe9b"
      },
      "execution_count": 22,
      "outputs": [
        {
          "output_type": "stream",
          "name": "stdout",
          "text": [
            "dict_keys(['title', 'GlossDiv'])\n"
          ]
        },
        {
          "output_type": "execute_result",
          "data": {
            "text/plain": [
              "\"\\n##Validación\\ngetData = 'SGM'\\nassert Acronymun == getData\\n\""
            ],
            "application/vnd.google.colaboratory.intrinsic+json": {
              "type": "string"
            }
          },
          "metadata": {},
          "execution_count": 22
        }
      ]
    },
    {
      "cell_type": "code",
      "source": [
        "### Dada la siguiente lista de datos ###\n",
        "\n",
        "lista_ = [34,24,23,56,34,'Gato',23,'loro',234,34,'perro']\n",
        "\n",
        "# Extrae todos los animales que se encuentran\n",
        "# Usa indices para acceder a los datos y agregalos en una lista tal y como se muestra en el ejemplo\n",
        "\n",
        "lista_animales = []\n",
        "lista_animales.append(lista_[5])\n",
        "print(lista_animales)\n",
        "\n",
        "\"\"\"\n",
        "###valida tu código\n",
        "final_list = ['Gato','loro','perro']\n",
        "assert lista_animales == final_list\n",
        "\n",
        "\"\"\""
      ],
      "metadata": {
        "colab": {
          "base_uri": "https://localhost:8080/",
          "height": 53
        },
        "id": "wjBITQcfHUnX",
        "outputId": "14602d46-643a-4e05-e61f-342cccf70863"
      },
      "execution_count": 24,
      "outputs": [
        {
          "output_type": "stream",
          "name": "stdout",
          "text": [
            "['Gato']\n"
          ]
        },
        {
          "output_type": "execute_result",
          "data": {
            "text/plain": [
              "\"\\n###valida tu código\\nfinal_list = ['Gato','loro','perro']\\nassert lista_animales == final_list\\n\\n\""
            ],
            "application/vnd.google.colaboratory.intrinsic+json": {
              "type": "string"
            }
          },
          "metadata": {},
          "execution_count": 24
        }
      ]
    },
    {
      "cell_type": "code",
      "source": [
        "#### Desplega un menú de una calculadora y realice la operación entre dos números\"\n",
        "\n",
        "### el menú debe tener las siguientes operaciones:\n",
        "\n",
        "###   1) suma\n",
        "##    2) resta\n",
        "###   3) multiplicacion\n",
        "####  4) Division\n",
        "\n",
        "###Utiliza if, elif and else para realizar el menú\n",
        "##Solcita al usuario que te ingrese dos numeros y con estos realizar las operaciones\n"
      ],
      "metadata": {
        "id": "fcU1_5RWKOX2"
      },
      "execution_count": 26,
      "outputs": []
    },
    {
      "cell_type": "code",
      "source": [
        "###  EJERCICIO 6 ###\n",
        "##Se tiene una lista de información como se muestra:\n",
        "\n",
        "list_3 = ['hector','juan','roberto',3.0, 6,7,12,46,19.76,{'1':24,2:34}, (12,3),(12,6),[3,5,3,4,7,346,8]]\n",
        "\n",
        "### Se desea extraer los valores por tipo de dato ya que por un error del sistema nos arrojo está información\n",
        "### Completa el siguiente fragmento de código, para que cada typo de dato quede almacenado en una lista de datos de acuerdo a su tipo\n",
        "### Consejo ---> Crea una lista por tipo de dato\n",
        "\n",
        "list_string = []\n",
        "\n",
        "for i in range(0,len(list_3)):\n",
        "  if type(list_3[i]) == str:\n",
        "    list_string.append(list_3[i])\n",
        "\n",
        "print(list_string)\n",
        "\n",
        "\n",
        "\n",
        "### Con la lista de números enteros que se obtiene, obten el promedio de dichs valor mediando un bucle for\n",
        "### para la sumatoria y dividiendo por el número de elementos\n",
        "### es decir:\n",
        "####     ___\n",
        "###      \\    lista[i] / len(lista)\n",
        "####     /__\n",
        "\n"
      ],
      "metadata": {
        "colab": {
          "base_uri": "https://localhost:8080/"
        },
        "id": "vxxLm8vjiggA",
        "outputId": "6c35cdda-9f66-4b16-db35-645237458c83"
      },
      "execution_count": 33,
      "outputs": [
        {
          "output_type": "stream",
          "name": "stdout",
          "text": [
            "['hector', 'juan', 'roberto']\n"
          ]
        }
      ]
    },
    {
      "cell_type": "code",
      "source": [],
      "metadata": {
        "id": "g1y2oDsgj9wx"
      },
      "execution_count": 33,
      "outputs": []
    }
  ]
}