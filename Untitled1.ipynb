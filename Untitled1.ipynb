{
  "nbformat": 4,
  "nbformat_minor": 0,
  "metadata": {
    "colab": {
      "provenance": [],
      "authorship_tag": "ABX9TyOwCJvUTxT2bp7GDxkRefOH",
      "include_colab_link": true
    },
    "kernelspec": {
      "name": "python3",
      "display_name": "Python 3"
    },
    "language_info": {
      "name": "python"
    }
  },
  "cells": [
    {
      "cell_type": "markdown",
      "metadata": {
        "id": "view-in-github",
        "colab_type": "text"
      },
      "source": [
        "<a href=\"https://colab.research.google.com/github/Nestor9801/Curso-b-sico-Python/blob/main/Untitled1.ipynb\" target=\"_parent\"><img src=\"https://colab.research.google.com/assets/colab-badge.svg\" alt=\"Open In Colab\"/></a>"
      ]
    },
    {
      "cell_type": "markdown",
      "source": [
        "# **Clase 1: Tipos de Datos**"
      ],
      "metadata": {
        "id": "rSivLPvJP4sW"
      }
    },
    {
      "cell_type": "markdown",
      "source": [
        "Tipo de dato entero: Los tipos enteros o int en Python permiten almacenar un valor numérico no decimal ya sea positivo o negativo de cualquier valor. "
      ],
      "metadata": {
        "id": "c7wR5lXbTzpB"
      }
    },
    {
      "cell_type": "code",
      "source": [
        "#Valor entero\n",
        "#Entra concepto de memoria\n",
        "#Python utiliza variables dinámicas\n",
        "\n",
        "a = 1  #--------> Está es una variable\n",
        "b = 324.0\n",
        "c = 45673903\n",
        "\n",
        "print(\"Validación 1: \", type(c) == type(a))\n",
        "print(\"Validación 2: \", type(b) == type(a))\n"
      ],
      "metadata": {
        "colab": {
          "base_uri": "https://localhost:8080/"
        },
        "id": "pvbTUXLbQGte",
        "outputId": "b21fd02c-ea13-4b53-f6e3-6586826be8b3"
      },
      "execution_count": 10,
      "outputs": [
        {
          "output_type": "stream",
          "name": "stdout",
          "text": [
            "Validación 1:  True\n",
            "Validación 2:  False\n"
          ]
        }
      ]
    },
    {
      "cell_type": "code",
      "source": [
        "#Tipo de dato String\n",
        "\n",
        "cadena = \"hola mundo\"\n",
        "numero = \"15\"\n",
        "dato3 = \"456\"\n",
        "dato4 = 34\n",
        "\n",
        "print(type(numero))\n",
        "print(type(cadena))\n",
        "\n",
        "##Imprime longitud de la cadena\n",
        "print(len(numero))\n",
        "\n",
        "###Ejemplo de uso###\n",
        "##Concatenación\n",
        "concat1 = cadena +\" \"+ numero + dato3 \n",
        "print(concat1)"
      ],
      "metadata": {
        "colab": {
          "base_uri": "https://localhost:8080/"
        },
        "id": "TfoeysbVQWzg",
        "outputId": "6ead513d-2786-430c-be5b-e4a62d76c808"
      },
      "execution_count": 21,
      "outputs": [
        {
          "output_type": "stream",
          "name": "stdout",
          "text": [
            "<class 'str'>\n",
            "<class 'str'>\n",
            "2\n",
            "hola mundo 15456\n"
          ]
        }
      ]
    },
    {
      "cell_type": "code",
      "source": [
        "##Tipo de dato float\n",
        "\n",
        "int1 = 24\n",
        "float1 = 4005.56\n",
        "float2 = 349506.23\n",
        "\n",
        "print(type(float1))\n",
        "###Ejemplo de uso####\n",
        "####SUMA####\n",
        "suma = int1 + float1 + float2\n",
        "print(type(suma))\n",
        "print(suma)"
      ],
      "metadata": {
        "colab": {
          "base_uri": "https://localhost:8080/"
        },
        "id": "S-w8QTBsURnp",
        "outputId": "3cbb04fa-fd2b-4dd7-d448-b14e2be23061"
      },
      "execution_count": 25,
      "outputs": [
        {
          "output_type": "stream",
          "name": "stdout",
          "text": [
            "<class 'float'>\n",
            "<class 'float'>\n",
            "353535.79\n"
          ]
        }
      ]
    },
    {
      "cell_type": "markdown",
      "source": [
        "Nota los valores double tienen más capacidad de memoria\n",
        "correspoonde a los int64 pero en float"
      ],
      "metadata": {
        "id": "R-P4BfkiZHjU"
      }
    },
    {
      "cell_type": "code",
      "source": [
        "##Tipo de dato Booleano###\n",
        "\n",
        "###Valor---Electrónica---Lógica\n",
        "### 1 ---> Encendido ----True o Verdadero\n",
        "### 0 ---> Apagado -----> False o Falso\n",
        "\n",
        "###lo valores booleanos son True and False\n",
        "\n",
        "###Caso de USO####\n",
        "###Validaciones###\n",
        "###Flags----> Banderas###\n",
        "\n",
        "a = True\n",
        "b = False\n",
        "\n",
        "print(type(a))\n",
        "print(type(b))\n",
        "print(a == b)\n",
        "\n"
      ],
      "metadata": {
        "colab": {
          "base_uri": "https://localhost:8080/"
        },
        "id": "j5x0TMrgX3jC",
        "outputId": "2c936921-1558-4f06-9304-187942151c91"
      },
      "execution_count": 28,
      "outputs": [
        {
          "output_type": "stream",
          "name": "stdout",
          "text": [
            "<class 'bool'>\n",
            "<class 'bool'>\n",
            "False\n"
          ]
        }
      ]
    },
    {
      "cell_type": "code",
      "source": [
        "###Operadores lógicos Booleanos###\n",
        "#### Los operadores lógicos son and y or en Python###\n",
        "\n",
        "False and True"
      ],
      "metadata": {
        "colab": {
          "base_uri": "https://localhost:8080/"
        },
        "id": "rMQTyzvPaH6l",
        "outputId": "c9d9a015-5700-4f98-9e91-b34c4fbc2750"
      },
      "execution_count": 34,
      "outputs": [
        {
          "output_type": "execute_result",
          "data": {
            "text/plain": [
              "False"
            ]
          },
          "metadata": {},
          "execution_count": 34
        }
      ]
    },
    {
      "cell_type": "code",
      "source": [
        "False or False"
      ],
      "metadata": {
        "colab": {
          "base_uri": "https://localhost:8080/"
        },
        "id": "VACJUSx0bWNk",
        "outputId": "95b1a81a-e367-4f77-c3c3-d375646d9ad5"
      },
      "execution_count": 36,
      "outputs": [
        {
          "output_type": "execute_result",
          "data": {
            "text/plain": [
              "False"
            ]
          },
          "metadata": {},
          "execution_count": 36
        }
      ]
    },
    {
      "cell_type": "markdown",
      "source": [
        "# **ESTRUCTURAS DE DATOS**"
      ],
      "metadata": {
        "id": "gIJ8OhwzdgnB"
      }
    },
    {
      "cell_type": "code",
      "source": [
        "#Lista \n",
        "## Nos ppermite almacenar cualquier tipo de dato\n",
        "## Una lista es mutable ----> Que puede cambiar o transformarse\n",
        "\n",
        "###Ejemplo### Actualización de mi lista\n",
        "\n",
        "lista = [1,2,3.00,4.0,\"Hola\",6,True,8]\n",
        "lista.append(int(45.0)) #Adhiriendo un tipo de dato que se ha convertido a entero\n",
        "\n",
        "##### ¿Cómo acceder a los elementos de una lista? #####\n",
        "#### lista = [1, 2, 3.00, 4.0, \"Hola\", 6, True, 8, 45]########\n",
        "#Posiciones   0  1   2     3     4     5   6    7   8########\n",
        "###Longitud      ------ 9 ---------\n",
        "\n",
        "##Obtener posición lista[0]\n",
        "print(type(lista[4]))\n",
        "print(len(lista))\n",
        "\n",
        "print(type(lista))\n",
        "print(lista)\n",
        "\n"
      ],
      "metadata": {
        "colab": {
          "base_uri": "https://localhost:8080/"
        },
        "id": "TXrJyj3tc5Ng",
        "outputId": "3b87dcd9-f2e9-496c-9cfa-34afde30df94"
      },
      "execution_count": 46,
      "outputs": [
        {
          "output_type": "stream",
          "name": "stdout",
          "text": [
            "<class 'str'>\n",
            "9\n",
            "<class 'list'>\n",
            "[1, 2, 3.0, 4.0, 'Hola', 6, True, 8, 45]\n"
          ]
        }
      ]
    },
    {
      "cell_type": "code",
      "source": [],
      "metadata": {
        "id": "2HF72HeQd3Nb"
      },
      "execution_count": null,
      "outputs": []
    }
  ]
}