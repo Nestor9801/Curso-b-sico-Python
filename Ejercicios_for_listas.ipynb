{
  "nbformat": 4,
  "nbformat_minor": 0,
  "metadata": {
    "colab": {
      "provenance": [],
      "authorship_tag": "ABX9TyM5sqtgEUUCjsnIugIUTA75",
      "include_colab_link": true
    },
    "kernelspec": {
      "name": "python3",
      "display_name": "Python 3"
    },
    "language_info": {
      "name": "python"
    }
  },
  "cells": [
    {
      "cell_type": "markdown",
      "metadata": {
        "id": "view-in-github",
        "colab_type": "text"
      },
      "source": [
        "<a href=\"https://colab.research.google.com/github/Nestor9801/Curso-b-sico-Python/blob/main/Ejercicios_for_listas.ipynb\" target=\"_parent\"><img src=\"https://colab.research.google.com/assets/colab-badge.svg\" alt=\"Open In Colab\"/></a>"
      ]
    },
    {
      "cell_type": "code",
      "execution_count": 28,
      "metadata": {
        "colab": {
          "base_uri": "https://localhost:8080/"
        },
        "id": "WyE-Lrzl0vTR",
        "outputId": "9d25e6d5-3452-4747-85d6-ff4ecfaa8534"
      },
      "outputs": [
        {
          "output_type": "stream",
          "name": "stdout",
          "text": [
            "0\n",
            "3\n",
            "3\n",
            "45\n",
            "6\n",
            "44\n"
          ]
        }
      ],
      "source": [
        "####Jercicio decrmento####\n",
        "\"\"\"\n",
        "for i in range(12,-1,-1):\n",
        "  print(i)\n",
        "\"\"\"\n",
        "##Ejercicio para optener posiciones en multiplos de 2 -----> Cada 2\n",
        "lista_ = [3,23,56,45,88,23,44]\n",
        "### ------------------------STEP----\n",
        "#########--------------------|-----\n",
        "#########--------------------V-----\n",
        "\n",
        "for i in range(0,len(lista_),3):\n",
        "  print(i)\n",
        "  print(lista_[i])\n"
      ]
    },
    {
      "cell_type": "code",
      "source": [
        "#### EJEMPLO DE BUCLE FOR PARA SUMATORIA####\n",
        "### Por sumatoria se entiende SUMAR una serie de datos\n",
        "\n",
        "##Ocupando la función de Python\n",
        "\n",
        "lista_dat = [1,3,4,6,7,9,3,4]\n",
        "suma_dat = sum(lista_dat)\n",
        "print(suma_dat)\n",
        "\n",
        "###Suma mediante el ciclo for\n",
        "suma = 0\n",
        "for i in range(0, len(lista_dat)):\n",
        "  suma = suma + lista_dat[i]\n",
        "print(suma)\n",
        "\n"
      ],
      "metadata": {
        "colab": {
          "base_uri": "https://localhost:8080/"
        },
        "id": "fnWf5WQB1fO4",
        "outputId": "f8c7c584-2b5e-4e40-d908-891a0f7fcbe2"
      },
      "execution_count": 33,
      "outputs": [
        {
          "output_type": "stream",
          "name": "stdout",
          "text": [
            "37\n",
            "37\n"
          ]
        }
      ]
    },
    {
      "cell_type": "code",
      "source": [
        "###Librerias\n",
        "### libreria -----> Paquetes de software que contienen funciones que nos ayudan\n",
        "### a impementar nuestras maneras de manera más sencilla ya que alguna funciones \n",
        "### ya se encuentran integradas\n"
      ],
      "metadata": {
        "id": "77TzMmWQ5o0j"
      },
      "execution_count": 34,
      "outputs": []
    },
    {
      "cell_type": "code",
      "source": [
        "import random as rd\n",
        "import math as mt\n",
        "from pandas import * ####-----> esta librería, es para el manejo de DataFrames\n",
        "\n"
      ],
      "metadata": {
        "id": "O4FAqf-G6bKF"
      },
      "execution_count": 41,
      "outputs": []
    },
    {
      "cell_type": "code",
      "source": [
        "####TAREA\n",
        "import random  #-----> esta librería me ayuda a generar valores random --->aleatorios\n",
        "###Sample es una función que se ecncuentre ne la librería random\n",
        "###Cuando se manda a llamar una función se usa . ----> instanciar\n",
        "\n",
        "\"\"\"\n",
        "lista = [34,56,23,45]\n",
        "for i in range(0, len(lista)):\n",
        "  if lista[i] % 2 == 0:\n",
        "    print(lista[i]) \n",
        "\n",
        "print(lista[0])\n",
        "\"\"\"\n",
        "\n",
        "final = []\n",
        "random_numbers = random.sample(range(0,10000),10000)\n",
        "print(len(random_numbers))\n",
        "############## empezamos en un rango de 0 hasta --->10000\n",
        "##es decir i va ir iterando 1 a 1 hasta llegar a 10000\n",
        "##por lo que es valor de i es igual a 1,2,3,4,5,6,...,n\n",
        "for i in range(0,len(random_numbers)): ####-------->0 - len(lista)\n",
        "  if random_numbers[i] % 2 == 0:\n",
        "    final.append(random_numbers[i])\n",
        "print(len(final))\n"
      ],
      "metadata": {
        "colab": {
          "base_uri": "https://localhost:8080/"
        },
        "id": "XQrIGWfM6639",
        "outputId": "8d0b95f0-583f-4653-e5db-e381cf342389"
      },
      "execution_count": 57,
      "outputs": [
        {
          "output_type": "stream",
          "name": "stdout",
          "text": [
            "34\n",
            "56\n",
            "34\n",
            "10000\n",
            "5000\n"
          ]
        }
      ]
    },
    {
      "cell_type": "code",
      "source": [
        "### DATA BASE ADMINISTRATOR ####\n",
        "### Una base de datos es un recopilación de datos estructurados###\n",
        "### Ejmeplo###\n",
        "### En una base datos se tiene A personas registradas con su profesion y sus salario###\n",
        "### Deseo consultar la información por Profesión\n",
        "\n",
        "###     lista = [[],[],[]] --->3\n",
        "###posiciones =   0  1  2\n",
        "\n",
        "\n",
        "tabla_prof = [['Pepe','Doctor',25000], ###---> cada lista es un renglon en mi tabla\n",
        "              ['Roberto','Profesor',12000],\n",
        "              ['Julio','Ingeniero',20000],\n",
        "              ['Sandra','Profesor',12000]]\n",
        "\n",
        "###          [1,2,3,4] ---- i = 1, j = 3 ----> valor = 3\n",
        "### M(i,j) = [3,4,5,6]  i = renglones, j = columna\n",
        "###          [3,4,5,2]\n",
        "\n",
        "\n",
        "get_prof = []\n",
        "response = input(\"Ingresa profesion que deseas consultar:\")\n",
        "for renglon in range(0, len(tabla_prof)):\n",
        "  for columna in range(0,len(tabla_prof[renglon])):\n",
        "    if tabla_prof[renglon][columna] == response:   ###----> accede a los elementos mi matriz\n",
        "      get_prof.append(tabla_prof[renglon])\n",
        "print(get_prof)"
      ],
      "metadata": {
        "colab": {
          "base_uri": "https://localhost:8080/"
        },
        "id": "rB6Io9VP79-d",
        "outputId": "e064be39-8f03-4ef3-dc7a-81ed8dca5942"
      },
      "execution_count": 65,
      "outputs": [
        {
          "output_type": "stream",
          "name": "stdout",
          "text": [
            "Ingresa profesion que deseas consultar:Doctor\n",
            "[['Pepe', 'Doctor', 25000]]\n"
          ]
        }
      ]
    },
    {
      "cell_type": "code",
      "source": [
        "###TAREA\n",
        "### Un sensor de humedad nos arroja los siguientes valore de información que se almacenan en una lista\n",
        "lista = [1,3.0,0.85,0.4,9,23,12,34,11,'err',23,0.5,'err', 67,'err']\n",
        "\n",
        "### Opcion1\n",
        "c = 0\n",
        "for i in range(0,len(lista)):\n",
        "  if lista[i] == 'err':\n",
        "    c +=1 \n",
        "\n",
        "###Opcion2\n",
        "lista_err = []\n",
        "for i in range(0,len(lista)):\n",
        "  if lista[i] == 'err':\n",
        "    lista_err.append(lista[i])\n",
        "\n",
        "\n",
        "#Se desea obtener valores menores a 5 para determinar que plantas necesitan riego\n",
        "# Ayudanos a encontrar estos valores\n",
        "# Ha habido algunas intermitencias en el sistema, por lo cual algunos valores marcan 'err'\n",
        "# Necesitas saber cuantos sensores están fallando y validar si es necesario reemplazarlos\n",
        "\n",
        "clean_list = []\n",
        "counter = 0\n",
        "for k in range(0,len(lista)):\n",
        "  if type(lista[k]) != str:\n",
        "    counter += 1\n",
        "    clean_list.append(lista[k])\n",
        "print(clean_list)\n",
        "\n",
        "lista_baja = []\n",
        "for i in range(0,len(lista)):\n",
        "  if type(lista[i]) == float or type(lista[i]) == int and lista[i] < 5:\n",
        "    print(f\"se ha encontrado baja humedad en el sensor con id: {i + 1}\")\n",
        "    lista_baja.append(lista[i])\n",
        "print(lista_baja)\n",
        "\n"
      ],
      "metadata": {
        "colab": {
          "base_uri": "https://localhost:8080/"
        },
        "id": "YqtiFNAZIQxU",
        "outputId": "75062ff4-b538-4ae8-8358-2d1956f64c24"
      },
      "execution_count": 72,
      "outputs": [
        {
          "output_type": "stream",
          "name": "stdout",
          "text": [
            "[1, 3.0, 0.85, 0.4, 9, 23, 12, 34, 11, 23, 0.5, 67]\n",
            "se ha encontrado baja humedad en el sensor con id: 1\n",
            "se ha encontrado baja humedad en el sensor con id: 2\n",
            "se ha encontrado baja humedad en el sensor con id: 3\n",
            "se ha encontrado baja humedad en el sensor con id: 4\n",
            "se ha encontrado baja humedad en el sensor con id: 12\n",
            "[1, 3.0, 0.85, 0.4, 0.5]\n"
          ]
        }
      ]
    },
    {
      "cell_type": "code",
      "source": [],
      "metadata": {
        "id": "Yxb9YUegK3Mj"
      },
      "execution_count": null,
      "outputs": []
    }
  ]
}