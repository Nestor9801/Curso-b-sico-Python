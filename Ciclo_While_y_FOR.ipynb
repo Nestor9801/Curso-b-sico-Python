{
  "nbformat": 4,
  "nbformat_minor": 0,
  "metadata": {
    "colab": {
      "provenance": [],
      "authorship_tag": "ABX9TyNI5y3HGJgSfoOqSJHFfMs5",
      "include_colab_link": true
    },
    "kernelspec": {
      "name": "python3",
      "display_name": "Python 3"
    },
    "language_info": {
      "name": "python"
    }
  },
  "cells": [
    {
      "cell_type": "markdown",
      "metadata": {
        "id": "view-in-github",
        "colab_type": "text"
      },
      "source": [
        "<a href=\"https://colab.research.google.com/github/Nestor9801/Curso-b-sico-Python/blob/main/Ciclo_While_y_FOR.ipynb\" target=\"_parent\"><img src=\"https://colab.research.google.com/assets/colab-badge.svg\" alt=\"Open In Colab\"/></a>"
      ]
    },
    {
      "cell_type": "markdown",
      "source": [
        "# **CICLO WHILE**\n",
        "\n",
        "### Se usa para repetir uns secuencia de instrucciones o sentencias un número indefinido de veces, generalmente esta sometida a una condición, que cuando se deja de cumplir, termina el ciclo."
      ],
      "metadata": {
        "id": "Xe6SprwAzwT_"
      }
    },
    {
      "cell_type": "code",
      "execution_count": 4,
      "metadata": {
        "colab": {
          "base_uri": "https://localhost:8080/"
        },
        "id": "KvPb5i3WzXfD",
        "outputId": "db690950-80bd-4e90-d1db-770bcf28b5d1"
      },
      "outputs": [
        {
          "name": "stdout",
          "output_type": "stream",
          "text": [
            "Ingresa tu contraseña:1234\n"
          ]
        }
      ],
      "source": [
        "### Syntax ###\n",
        "##### while (Condicion):\n",
        "#####     Todo el código va aquí.\n",
        "\n",
        "contrasena = input(\"Ingresa tu contraseña:\")\n",
        "while contrasena != '1234':\n",
        "  print(\"contraseña valida\") \n",
        "\n"
      ]
    },
    {
      "cell_type": "code",
      "source": [
        "contrasena = '1234'\n",
        "counter = 0\n",
        "while counter < 3:\n",
        "  contra = input(\"ingresa el valor de tu contraseña:\")\n",
        "  if contra != contrasena:\n",
        "    print(\"contraseña incorrecta\")\n",
        "    counter += 1 #------------> Contador\n",
        "    print(counter)\n",
        "  else:\n",
        "    print(\"Contraseña valida\")"
      ],
      "metadata": {
        "colab": {
          "base_uri": "https://localhost:8080/"
        },
        "id": "VeoWR02V1IjD",
        "outputId": "ccdf9404-e0b2-4b3d-b33d-d1cf29831d42"
      },
      "execution_count": 7,
      "outputs": [
        {
          "output_type": "stream",
          "name": "stdout",
          "text": [
            "ingresa el valor de tu contraseña:123452\n",
            "contraseña incorrecta\n",
            "1\n",
            "ingresa el valor de tu contraseña:we2232e\n",
            "contraseña incorrecta\n",
            "2\n",
            "ingresa el valor de tu contraseña:213435\n",
            "contraseña incorrecta\n",
            "3\n"
          ]
        }
      ]
    },
    {
      "cell_type": "code",
      "source": [
        "#### EJEMPLO DE CONTADOR CON CICLO WHILE ####\n",
        "contador = 0 #-------> Generalmente un contador inicia en 0\n",
        "while contador < 10:\n",
        "  print(\"Valor del contador:\", contador)\n",
        "  contador += 1"
      ],
      "metadata": {
        "colab": {
          "base_uri": "https://localhost:8080/"
        },
        "id": "hslHhb852cWW",
        "outputId": "86257edd-8a0b-44f6-c96a-55082495b196"
      },
      "execution_count": 8,
      "outputs": [
        {
          "output_type": "stream",
          "name": "stdout",
          "text": [
            "Valor del contador: 0\n",
            "Valor del contador: 1\n",
            "Valor del contador: 2\n",
            "Valor del contador: 3\n",
            "Valor del contador: 4\n",
            "Valor del contador: 5\n",
            "Valor del contador: 6\n",
            "Valor del contador: 7\n",
            "Valor del contador: 8\n",
            "Valor del contador: 9\n"
          ]
        }
      ]
    },
    {
      "cell_type": "code",
      "source": [
        "### Ejemplo de llenado de lista con un ciclo WHILE####\n",
        "\n",
        "lista_ = []\n",
        "counter = 0\n",
        "while counter < 5:\n",
        "  dato = int(input(\"Ingresa un valor de entero:\"))\n",
        "  lista_.append(dato)\n",
        "  print(lista_)\n",
        "  counter += 1\n",
        "  \n"
      ],
      "metadata": {
        "colab": {
          "base_uri": "https://localhost:8080/"
        },
        "id": "OKHvJ8Ay5I25",
        "outputId": "d5659645-e1c6-4205-8ca1-ae827cf9ed78"
      },
      "execution_count": 9,
      "outputs": [
        {
          "output_type": "stream",
          "name": "stdout",
          "text": [
            "Ingresa un valor de entero:4\n",
            "[4]\n",
            "Ingresa un valor de entero:5\n",
            "[4, 5]\n",
            "Ingresa un valor de entero:78\n",
            "[4, 5, 78]\n",
            "Ingresa un valor de entero:23\n",
            "[4, 5, 78, 23]\n",
            "Ingresa un valor de entero:45\n",
            "[4, 5, 78, 23, 45]\n"
          ]
        }
      ]
    },
    {
      "cell_type": "code",
      "source": [
        "##### Llenado de lista de solo pares #####\n",
        "### Modulo## ----> 10%2 == 0 #### 9%3 == 0 ### 9%2 == 1\n",
        "\n",
        "lista_pares = []\n",
        "counter = 0\n",
        "while len(lista_pares) < 4:\n",
        "  valor = int(input(\"Ingresa valor entero par:\"))\n",
        "  if valor % 3 == 0:\n",
        "    lista_pares.append(valor)\n",
        "print(lista_pares)\n",
        "\n"
      ],
      "metadata": {
        "colab": {
          "base_uri": "https://localhost:8080/"
        },
        "id": "HSygvBAq56N-",
        "outputId": "892ae59e-bd70-4cc3-b8dd-b411ed676bb9"
      },
      "execution_count": 12,
      "outputs": [
        {
          "output_type": "stream",
          "name": "stdout",
          "text": [
            "Ingresa valor entero par:2\n",
            "Ingresa valor entero par:4\n",
            "Ingresa valor entero par:3\n",
            "Ingresa valor entero par:5\n",
            "Ingresa valor entero par:6\n",
            "Ingresa valor entero par:8\n",
            "Ingresa valor entero par:3\n",
            "Ingresa valor entero par:2\n",
            "Ingresa valor entero par:9\n",
            "[3, 6, 3, 9]\n"
          ]
        }
      ]
    },
    {
      "cell_type": "markdown",
      "source": [
        "# **CICLO FOR**"
      ],
      "metadata": {
        "id": "iwvCGkyH87cH"
      }
    },
    {
      "cell_type": "markdown",
      "source": [
        "#### El ciclo for nos ayuda a recorrer elemntos iterables ### "
      ],
      "metadata": {
        "id": "4cp4salt8-Cy"
      }
    },
    {
      "cell_type": "code",
      "source": [
        "### Por iteración se entiene que son elementos que se pueden recorrer paso a paso\n",
        "### Por ejemplo una lista:\n",
        "### [5,     67,    34,   23,   2]\n",
        "### i = 0,  i = 1, ..., i = n\n",
        "### Valor de mi índice == i \n",
        "## mi indice vale i = 0\n",
        "## mi indice vale i = 1\n",
        "\n",
        "### Iteración ------> Posición     Valor\n",
        "#Iteración 1: -------> 0  ------> 5\n",
        "#Iteración 2: -------> 1  ------> 67\n",
        "#Iteración 3: -------> 2 -------> 34\n",
        "# .........\n",
        "\n",
        "###SYNTAX###\n",
        "## for index in <len de elemneto a recorrer o elmeneto a rrecore>\n",
        "data = [16,23,32,41,5,64,71]\n",
        "contador = 0\n",
        "for i in data: #-----Accedo por item o elemento \n",
        "  contador += 1\n",
        "\n",
        "dat_ = list(range(0,30)) #-----> Me genera valores entre un rango\n",
        "\n",
        "for j in range(0,len(data)): ### ---- Accedo por posición o index\n",
        "  print(\"indice:\", j)\n",
        "  print(\"valor:\", data[j])\n",
        "\n",
        "###Ejemplo de uso para obtener pares de una lista\n",
        "get_pairs = []\n",
        "for k in range(0, len(data)): \n",
        "  if data[k] % 2 == 0: ### ------>Entra en indice 2, valor 32 y valida que %2 == 0\n",
        "    get_pairs.append(data[k])\n",
        "print(get_pairs)\n",
        "\n"
      ],
      "metadata": {
        "colab": {
          "base_uri": "https://localhost:8080/"
        },
        "id": "X2HN__yn9MHh",
        "outputId": "4bd98480-eed8-4c67-825b-c64baa4bb531"
      },
      "execution_count": 34,
      "outputs": [
        {
          "output_type": "stream",
          "name": "stdout",
          "text": [
            "indice: 0\n",
            "valor: 16\n",
            "indice: 1\n",
            "valor: 23\n",
            "indice: 2\n",
            "valor: 32\n",
            "indice: 3\n",
            "valor: 41\n",
            "indice: 4\n",
            "valor: 5\n",
            "indice: 5\n",
            "valor: 64\n",
            "indice: 6\n",
            "valor: 71\n",
            "[16, 32, 64]\n"
          ]
        }
      ]
    },
    {
      "cell_type": "code",
      "source": [],
      "metadata": {
        "id": "n6u6bo2y-wyF"
      },
      "execution_count": null,
      "outputs": []
    }
  ]
}