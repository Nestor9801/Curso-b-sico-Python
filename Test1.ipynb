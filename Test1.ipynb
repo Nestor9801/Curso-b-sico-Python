{
  "nbformat": 4,
  "nbformat_minor": 0,
  "metadata": {
    "colab": {
      "provenance": [],
      "authorship_tag": "ABX9TyM60ZvXkcmcpbs8ylQUAZGB",
      "include_colab_link": true
    },
    "kernelspec": {
      "name": "python3",
      "display_name": "Python 3"
    },
    "language_info": {
      "name": "python"
    }
  },
  "cells": [
    {
      "cell_type": "markdown",
      "metadata": {
        "id": "view-in-github",
        "colab_type": "text"
      },
      "source": [
        "<a href=\"https://colab.research.google.com/github/Nestor9801/Curso-b-sico-Python/blob/main/Test1.ipynb\" target=\"_parent\"><img src=\"https://colab.research.google.com/assets/colab-badge.svg\" alt=\"Open In Colab\"/></a>"
      ]
    },
    {
      "cell_type": "code",
      "execution_count": 1,
      "metadata": {
        "id": "S5nLeC-ezO6v"
      },
      "outputs": [],
      "source": [
        "import numpy as np\n",
        "import pandas as pd"
      ]
    },
    {
      "cell_type": "code",
      "source": [
        "list_ = [83763827128,213,45,2,3,3,2,23,3,3,2,32]\n",
        "\n",
        "list_div = []\n",
        "for i in range(0,len(list_)):\n",
        "    if list_[i] % 2 == 0:\n",
        "        list_div.append(list_[i])\n",
        "\n",
        "arra_np = np.array(list_)\n",
        "print(np.transpose(arra_np))"
      ],
      "metadata": {
        "colab": {
          "base_uri": "https://localhost:8080/"
        },
        "id": "SD2_9UoNz29A",
        "outputId": "3c36fe78-cd29-4082-8843-4751ed8dd08f"
      },
      "execution_count": 5,
      "outputs": [
        {
          "output_type": "stream",
          "name": "stdout",
          "text": [
            "[83763827128         213          45           2           3           3\n",
            "           2          23           3           3           2          32]\n"
          ]
        }
      ]
    },
    {
      "cell_type": "code",
      "source": [],
      "metadata": {
        "id": "9JfEAPMR14f2"
      },
      "execution_count": null,
      "outputs": []
    }
  ]
}