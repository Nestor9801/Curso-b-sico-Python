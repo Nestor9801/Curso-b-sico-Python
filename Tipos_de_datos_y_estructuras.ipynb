{
  "nbformat": 4,
  "nbformat_minor": 0,
  "metadata": {
    "colab": {
      "provenance": [],
      "authorship_tag": "ABX9TyPHixzRZjpvIoLWNbiWfuH5",
      "include_colab_link": true
    },
    "kernelspec": {
      "name": "python3",
      "display_name": "Python 3"
    },
    "language_info": {
      "name": "python"
    }
  },
  "cells": [
    {
      "cell_type": "markdown",
      "metadata": {
        "id": "view-in-github",
        "colab_type": "text"
      },
      "source": [
        "<a href=\"https://colab.research.google.com/github/Nestor9801/Curso-b-sico-Python/blob/main/Tipos_de_datos_y_estructuras.ipynb\" target=\"_parent\"><img src=\"https://colab.research.google.com/assets/colab-badge.svg\" alt=\"Open In Colab\"/></a>"
      ]
    },
    {
      "cell_type": "markdown",
      "source": [
        "# **Clase 1: Tipos de Datos**"
      ],
      "metadata": {
        "id": "rSivLPvJP4sW"
      }
    },
    {
      "cell_type": "markdown",
      "source": [
        "Tipo de dato entero: Los tipos enteros o int en Python permiten almacenar un valor numérico no decimal ya sea positivo o negativo de cualquier valor. "
      ],
      "metadata": {
        "id": "c7wR5lXbTzpB"
      }
    },
    {
      "cell_type": "code",
      "source": [
        "#Valor entero\n",
        "#Entra concepto de memoria\n",
        "#Python utiliza variables dinámicas\n",
        "\n",
        "a = 1  #--------> Está es una variable\n",
        "b = 324.0\n",
        "c = 45673903\n",
        "\n",
        "print(\"Validación 1: \", type(c) == type(a))\n",
        "print(\"Validación 2: \", type(b) == type(a))\n"
      ],
      "metadata": {
        "colab": {
          "base_uri": "https://localhost:8080/"
        },
        "id": "pvbTUXLbQGte",
        "outputId": "b21fd02c-ea13-4b53-f6e3-6586826be8b3"
      },
      "execution_count": null,
      "outputs": [
        {
          "output_type": "stream",
          "name": "stdout",
          "text": [
            "Validación 1:  True\n",
            "Validación 2:  False\n"
          ]
        }
      ]
    },
    {
      "cell_type": "code",
      "source": [
        "#Tipo de dato String\n",
        "\n",
        "cadena = \"hola mundo\"\n",
        "numero = \"15\"\n",
        "dato3 = \"456\"\n",
        "dato4 = 34\n",
        "\n",
        "print(type(numero))\n",
        "print(type(cadena))\n",
        "\n",
        "##Imprime longitud de la cadena\n",
        "print(len(numero))\n",
        "\n",
        "###Ejemplo de uso###\n",
        "##Concatenación\n",
        "concat1 = cadena +\" \"+ numero + dato3 \n",
        "print(concat1)"
      ],
      "metadata": {
        "colab": {
          "base_uri": "https://localhost:8080/"
        },
        "id": "TfoeysbVQWzg",
        "outputId": "6ead513d-2786-430c-be5b-e4a62d76c808"
      },
      "execution_count": null,
      "outputs": [
        {
          "output_type": "stream",
          "name": "stdout",
          "text": [
            "<class 'str'>\n",
            "<class 'str'>\n",
            "2\n",
            "hola mundo 15456\n"
          ]
        }
      ]
    },
    {
      "cell_type": "code",
      "source": [
        "##Tipo de dato float\n",
        "\n",
        "int1 = 24\n",
        "float1 = 4005.56\n",
        "float2 = 349506.23\n",
        "\n",
        "print(type(float1))\n",
        "###Ejemplo de uso####\n",
        "####SUMA####\n",
        "suma = int1 + float1 + float2\n",
        "print(type(suma))\n",
        "print(suma)"
      ],
      "metadata": {
        "colab": {
          "base_uri": "https://localhost:8080/"
        },
        "id": "S-w8QTBsURnp",
        "outputId": "3cbb04fa-fd2b-4dd7-d448-b14e2be23061"
      },
      "execution_count": null,
      "outputs": [
        {
          "output_type": "stream",
          "name": "stdout",
          "text": [
            "<class 'float'>\n",
            "<class 'float'>\n",
            "353535.79\n"
          ]
        }
      ]
    },
    {
      "cell_type": "markdown",
      "source": [
        "Nota los valores double tienen más capacidad de memoria\n",
        "correspoonde a los int64 pero en float"
      ],
      "metadata": {
        "id": "R-P4BfkiZHjU"
      }
    },
    {
      "cell_type": "code",
      "source": [
        "##Tipo de dato Booleano###\n",
        "\n",
        "###Valor---Electrónica---Lógica\n",
        "### 1 ---> Encendido ----True o Verdadero\n",
        "### 0 ---> Apagado -----> False o Falso\n",
        "\n",
        "###lo valores booleanos son True and False\n",
        "\n",
        "###Caso de USO####\n",
        "###Validaciones###\n",
        "###Flags----> Banderas###\n",
        "\n",
        "a = True\n",
        "b = False\n",
        "\n",
        "print(type(a))\n",
        "print(type(b))\n",
        "print(a == b)\n",
        "\n"
      ],
      "metadata": {
        "colab": {
          "base_uri": "https://localhost:8080/"
        },
        "id": "j5x0TMrgX3jC",
        "outputId": "2c936921-1558-4f06-9304-187942151c91"
      },
      "execution_count": null,
      "outputs": [
        {
          "output_type": "stream",
          "name": "stdout",
          "text": [
            "<class 'bool'>\n",
            "<class 'bool'>\n",
            "False\n"
          ]
        }
      ]
    },
    {
      "cell_type": "code",
      "source": [
        "###Operadores lógicos Booleanos###\n",
        "#### Los operadores lógicos son and y or en Python###\n",
        "\n",
        "False and True"
      ],
      "metadata": {
        "colab": {
          "base_uri": "https://localhost:8080/"
        },
        "id": "rMQTyzvPaH6l",
        "outputId": "c9d9a015-5700-4f98-9e91-b34c4fbc2750"
      },
      "execution_count": null,
      "outputs": [
        {
          "output_type": "execute_result",
          "data": {
            "text/plain": [
              "False"
            ]
          },
          "metadata": {},
          "execution_count": 34
        }
      ]
    },
    {
      "cell_type": "code",
      "source": [
        "False or False"
      ],
      "metadata": {
        "colab": {
          "base_uri": "https://localhost:8080/"
        },
        "id": "VACJUSx0bWNk",
        "outputId": "95b1a81a-e367-4f77-c3c3-d375646d9ad5"
      },
      "execution_count": null,
      "outputs": [
        {
          "output_type": "execute_result",
          "data": {
            "text/plain": [
              "False"
            ]
          },
          "metadata": {},
          "execution_count": 36
        }
      ]
    },
    {
      "cell_type": "markdown",
      "source": [
        "# **ESTRUCTURAS DE DATOS**"
      ],
      "metadata": {
        "id": "gIJ8OhwzdgnB"
      }
    },
    {
      "cell_type": "code",
      "source": [
        "#Lista \n",
        "## Nos ppermite almacenar cualquier tipo de dato\n",
        "## Una lista es mutable ----> Que puede cambiar o transformarse\n",
        "\n",
        "###Ejemplo### Actualización de mi lista\n",
        "\n",
        "lista = [1,2,3.00,4.0,\"Hola\",6,True,8]\n",
        "lista.append(int(45.0)) #Adhiriendo un tipo de dato que se ha convertido a entero\n",
        "\n",
        "##### ¿Cómo acceder a los elementos de una lista? #####\n",
        "#### lista = [1, 2, 3.00, 4.0, \"Hola\", 6, True, 8, 45]########\n",
        "#Posiciones   0  1   2     3     4     5   6    7   8########\n",
        "###Longitud      ------ 9 ---------\n",
        "\n",
        "##Obtener posición lista[0]\n",
        "print(type(lista[4]))\n",
        "print(len(lista))\n",
        "\n",
        "print(type(lista))\n",
        "print(lista)\n",
        "\n"
      ],
      "metadata": {
        "colab": {
          "base_uri": "https://localhost:8080/"
        },
        "id": "TXrJyj3tc5Ng",
        "outputId": "3b87dcd9-f2e9-496c-9cfa-34afde30df94"
      },
      "execution_count": null,
      "outputs": [
        {
          "output_type": "stream",
          "name": "stdout",
          "text": [
            "<class 'str'>\n",
            "9\n",
            "<class 'list'>\n",
            "[1, 2, 3.0, 4.0, 'Hola', 6, True, 8, 45]\n"
          ]
        }
      ]
    },
    {
      "cell_type": "markdown",
      "source": [
        "### **Operaciones de listas**"
      ],
      "metadata": {
        "id": "XstYNFyWel2_"
      }
    },
    {
      "cell_type": "code",
      "source": [
        "lista_cal = [8,20,12,7,5,18]\n",
        "numero_cal = len(lista_cal)\n",
        "####Operación suma sobre una lista##\n",
        "suma_cal = sum(lista_cal)\n",
        "promedio = suma_cal/numero_cal\n",
        "print(promedio)"
      ],
      "metadata": {
        "id": "2HF72HeQd3Nb",
        "colab": {
          "base_uri": "https://localhost:8080/"
        },
        "outputId": "bffbaf0a-f23b-4a0e-8f08-7be27f48dddb"
      },
      "execution_count": null,
      "outputs": [
        {
          "output_type": "stream",
          "name": "stdout",
          "text": [
            "11.666666666666666\n"
          ]
        }
      ]
    },
    {
      "cell_type": "code",
      "source": [
        "##Cuount de mi lista\n",
        "lista_val = [\"string\",\"int\", \"string\", \"hola\", \"adios\", \"mango\"]\n",
        "lista_val.count(\"string\")\n",
        "lista_val.reverse()\n",
        "lista_val\n"
      ],
      "metadata": {
        "colab": {
          "base_uri": "https://localhost:8080/"
        },
        "id": "I-U6YJV9f3dS",
        "outputId": "e6ea0196-0928-49ba-ac05-b47125417f44"
      },
      "execution_count": null,
      "outputs": [
        {
          "output_type": "execute_result",
          "data": {
            "text/plain": [
              "['mango', 'adios', 'hola', 'string', 'int', 'string']"
            ]
          },
          "metadata": {},
          "execution_count": 10
        }
      ]
    },
    {
      "cell_type": "code",
      "source": [
        "stack = [2,4,6,7,8]\n",
        "###Se hace una operación push###\n",
        "stack.append(56)\n",
        "stack"
      ],
      "metadata": {
        "colab": {
          "base_uri": "https://localhost:8080/"
        },
        "id": "GRa0kf1Sgu1C",
        "outputId": "94096f6a-e76d-4258-e51a-9052f094fd60"
      },
      "execution_count": null,
      "outputs": [
        {
          "output_type": "execute_result",
          "data": {
            "text/plain": [
              "[2, 4, 6, 7, 8, 56]"
            ]
          },
          "metadata": {},
          "execution_count": 12
        }
      ]
    },
    {
      "cell_type": "code",
      "source": [
        "### Se elimina el último##\n",
        "stack.pop()\n",
        "stack"
      ],
      "metadata": {
        "colab": {
          "base_uri": "https://localhost:8080/"
        },
        "id": "DIAA3YmYiCrG",
        "outputId": "1a526824-0c8f-41dc-b504-0f8aea94092b"
      },
      "execution_count": null,
      "outputs": [
        {
          "output_type": "execute_result",
          "data": {
            "text/plain": [
              "[2, 4, 6]"
            ]
          },
          "metadata": {},
          "execution_count": 15
        }
      ]
    },
    {
      "cell_type": "code",
      "source": [
        "###Acceder a un elmento de mi lista###\n",
        "stack[0]"
      ],
      "metadata": {
        "colab": {
          "base_uri": "https://localhost:8080/"
        },
        "id": "Ciq6GWvFiH81",
        "outputId": "33cf119f-9060-4607-ca0b-ed9f56a6e580"
      },
      "execution_count": null,
      "outputs": [
        {
          "output_type": "execute_result",
          "data": {
            "text/plain": [
              "2"
            ]
          },
          "metadata": {},
          "execution_count": 16
        }
      ]
    },
    {
      "cell_type": "markdown",
      "source": [
        "### **Tuplas**"
      ],
      "metadata": {
        "id": "g_Vw6oK4jCO1"
      }
    },
    {
      "cell_type": "code",
      "source": [
        "### Tupla es una estructura de datos que es inmutable###\n",
        "###Nosotros no podemos hacerle una operación##\n",
        "tupla = (1,2,3,4,\"string\")\n",
        "\n",
        "###Acceder a elemento de la tupla##\n",
        "print(\"Extrayendo elemento en la posición 0: \",tupla[0])\n",
        "\n",
        "###Para nostros poder cambiar una tupla, lo ideal es pasarla a una lista\n",
        "list_tupla = list(tupla)\n",
        "print(list_tupla)\n",
        "tuple_2 = tuple(list_tupla)\n",
        "print(\"imprimiendo tupla 2:\", tuple_2)"
      ],
      "metadata": {
        "colab": {
          "base_uri": "https://localhost:8080/"
        },
        "id": "TDL48ewoi-QC",
        "outputId": "d5a76f82-cfa9-47c5-9c93-d308cf5b0a67"
      },
      "execution_count": null,
      "outputs": [
        {
          "output_type": "stream",
          "name": "stdout",
          "text": [
            "Extrayendo elemento en la posición 0:  1\n",
            "[1, 2, 3, 4, 'string']\n",
            "imprimiendo tupla 2: (1, 2, 3, 4, 'string')\n"
          ]
        }
      ]
    },
    {
      "cell_type": "markdown",
      "source": [
        "## **Diccionarios**"
      ],
      "metadata": {
        "id": "J_pHAD7Vkud6"
      }
    },
    {
      "cell_type": "code",
      "source": [
        "diccionario = {}\n",
        "type(diccionario)"
      ],
      "metadata": {
        "colab": {
          "base_uri": "https://localhost:8080/"
        },
        "id": "HMDgYxY8jXmk",
        "outputId": "115ca57d-7a9f-49ba-bf94-02a934335ff0"
      },
      "execution_count": null,
      "outputs": [
        {
          "output_type": "execute_result",
          "data": {
            "text/plain": [
              "dict"
            ]
          },
          "metadata": {},
          "execution_count": 49
        }
      ]
    },
    {
      "cell_type": "code",
      "source": [
        "##El dicionario tiene una llave (key) y un valor (\"value\")\n",
        "\n",
        "diccionario = {\n",
        "    \"a\":256,\n",
        "    \"b\":\"hola\",\n",
        "    \"c\": 24.0,\n",
        "    ##Objeto anidado o nested object####\n",
        "    \"data\": {\n",
        "        \"a\": 23,\n",
        "        \"b\":45,\n",
        "        \"s\":\"cadena\",\n",
        "        \"data_2\":{\n",
        "            \"value1\": 85,\n",
        "            \"nested_array\": [3,2,4,5,6,7,8,9]\n",
        "        }\n",
        "    }\n",
        "}\n",
        "\n",
        "print(diccionario)\n",
        "\n",
        "\"\"\"                                         key value\n",
        "                                             |    |\n",
        "{'a': 256, 'b': 'hola', 'c': 24.0, 'data': {'a': 23, 'b': 45, 's': 'cadena'}}\n",
        "  |     |                             |                   |\n",
        "key  value                           key                value\n",
        "\"\"\"\n",
        "\n",
        "\n",
        "###Diccionario es su homologo a JSON en JS"
      ],
      "metadata": {
        "colab": {
          "base_uri": "https://localhost:8080/",
          "height": 107
        },
        "id": "MKtbkf4rlZh5",
        "outputId": "6d648ee4-3070-4e04-cb33-3753104776be"
      },
      "execution_count": null,
      "outputs": [
        {
          "output_type": "stream",
          "name": "stdout",
          "text": [
            "{'a': 256, 'b': 'hola', 'c': 24.0, 'data': {'a': 23, 'b': 45, 's': 'cadena', 'data_2': {'value1': 85, 'nested_array': [3, 2, 4, 5, 6, 7, 8, 9]}}}\n"
          ]
        },
        {
          "output_type": "execute_result",
          "data": {
            "text/plain": [
              "\"                                         key value\\n                                             |    |\\n{'a': 256, 'b': 'hola', 'c': 24.0, 'data': {'a': 23, 'b': 45, 's': 'cadena'}}\\n  |     |                             |                   |\\nkey  value                           key                value\\n\""
            ],
            "application/vnd.google.colaboratory.intrinsic+json": {
              "type": "string"
            }
          },
          "metadata": {},
          "execution_count": 62
        }
      ]
    },
    {
      "cell_type": "code",
      "source": [
        "###¿Cómo accedo a un elemento de mi diccionario?###\n",
        "print(diccionario.keys())"
      ],
      "metadata": {
        "colab": {
          "base_uri": "https://localhost:8080/"
        },
        "id": "qou9ErbKmBle",
        "outputId": "b260613a-acaf-4bfd-c69e-8782930e70c4"
      },
      "execution_count": null,
      "outputs": [
        {
          "output_type": "stream",
          "name": "stdout",
          "text": [
            "dict_keys(['a', 'b', 'c', 'data'])\n"
          ]
        }
      ]
    },
    {
      "cell_type": "code",
      "source": [
        "diccionario['data']['data_2']['nested_array']"
      ],
      "metadata": {
        "colab": {
          "base_uri": "https://localhost:8080/"
        },
        "id": "dgjcI1q6opGe",
        "outputId": "8891917c-1120-409e-e047-d84828f298ef"
      },
      "execution_count": null,
      "outputs": [
        {
          "output_type": "execute_result",
          "data": {
            "text/plain": [
              "[3, 2, 4, 5, 6, 7, 8, 9]"
            ]
          },
          "metadata": {},
          "execution_count": 61
        }
      ]
    },
    {
      "cell_type": "code",
      "source": [
        "print(type(diccionario['data']['s'])) "
      ],
      "metadata": {
        "colab": {
          "base_uri": "https://localhost:8080/"
        },
        "id": "qiSmdgROnAGQ",
        "outputId": "faf7e32d-e472-4bd5-dde7-7562e615b8bd"
      },
      "execution_count": null,
      "outputs": [
        {
          "output_type": "stream",
          "name": "stdout",
          "text": [
            "<class 'str'>\n"
          ]
        }
      ]
    },
    {
      "cell_type": "code",
      "source": [
        "diccionario['data']['s']"
      ],
      "metadata": {
        "colab": {
          "base_uri": "https://localhost:8080/",
          "height": 35
        },
        "id": "bah43yQSnJUv",
        "outputId": "65cf7c0e-a3da-449c-fd12-e7ad7efbcf68"
      },
      "execution_count": null,
      "outputs": [
        {
          "output_type": "execute_result",
          "data": {
            "text/plain": [
              "'cadena'"
            ],
            "application/vnd.google.colaboratory.intrinsic+json": {
              "type": "string"
            }
          },
          "metadata": {},
          "execution_count": 40
        }
      ]
    },
    {
      "cell_type": "code",
      "source": [
        "diccionario_2 = {}"
      ],
      "metadata": {
        "id": "1zwxYNUEnlAV"
      },
      "execution_count": null,
      "outputs": []
    },
    {
      "cell_type": "code",
      "source": [
        "###Añadiendo valores a mi didccionario\n",
        "###Actualizando###\n",
        "diccionario_2[\"clave2\"] = 24\n"
      ],
      "metadata": {
        "id": "c2J6TSJ0psgG"
      },
      "execution_count": null,
      "outputs": []
    },
    {
      "cell_type": "code",
      "source": [
        "##Elimina elemento del diccionario\n",
        "del diccionario_2[\"clabe1\"]"
      ],
      "metadata": {
        "id": "XAiyeAMTp0o8"
      },
      "execution_count": null,
      "outputs": []
    },
    {
      "cell_type": "code",
      "source": [
        "diccionario_2"
      ],
      "metadata": {
        "colab": {
          "base_uri": "https://localhost:8080/"
        },
        "id": "4iQrwbaAp2I4",
        "outputId": "184b7e6b-2414-4b6f-c6c5-a9ff1a8aceda"
      },
      "execution_count": null,
      "outputs": [
        {
          "output_type": "execute_result",
          "data": {
            "text/plain": [
              "{'clabe3': {'valu3': 'hola'}, 'clave2': 24}"
            ]
          },
          "metadata": {},
          "execution_count": 81
        }
      ]
    },
    {
      "cell_type": "code",
      "source": [],
      "metadata": {
        "id": "2ZutKlAiqcdN"
      },
      "execution_count": null,
      "outputs": []
    }
  ]
}